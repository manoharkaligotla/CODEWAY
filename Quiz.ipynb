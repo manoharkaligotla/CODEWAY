{
 "cells": [
  {
   "cell_type": "code",
   "execution_count": 5,
   "id": "6bf87e29",
   "metadata": {},
   "outputs": [
    {
     "name": "stdout",
     "output_type": "stream",
     "text": [
      "Fill in the blank: The author of 'To Kill a Mockingbird' is ___.\n",
      "Your answer: manohar\n",
      "Incorrect! The correct answer is: Harper Lee\n",
      "Fill in the blank: The chemical symbol for water is ___.\n",
      "Your answer: hh\n",
      "Incorrect! The correct answer is: H2O\n",
      "Fill in the blank: The Great Wall of China is located in ___.\n",
      "Your answer: jj\n",
      "Incorrect! The correct answer is: China\n",
      "Fill in the blank: The capital of France is ___.\n",
      "Your answer: gg\n",
      "Incorrect! The correct answer is: Paris\n",
      "Fill in the blank: The human heart has ___ chambers.\n",
      "Your answer: hef\n",
      "Incorrect! The correct answer is: 4\n",
      "Quiz completed! You scored 0/5.\n"
     ]
    }
   ],
   "source": [
    "import random\n",
    "\n",
    "# Define questions with fill-in-the-blank format\n",
    "questions = [\n",
    "    \"The capital of France is ___.\",\n",
    "    \"The author of 'To Kill a Mockingbird' is ___.\",\n",
    "    \"The human heart has ___ chambers.\",\n",
    "    \"The Great Wall of China is located in ___.\",\n",
    "    \"The chemical symbol for water is ___.\"\n",
    "]\n",
    "\n",
    "# Define answers corresponding to the questions\n",
    "answers = [\n",
    "    \"Paris\",\n",
    "    \"Harper Lee\",\n",
    "    \"4\",\n",
    "    \"China\",\n",
    "    \"H2O\"\n",
    "]\n",
    "\n",
    "# Function to play the quiz\n",
    "def play_quiz():\n",
    "    score = 0\n",
    "    combined = list(zip(questions, answers))\n",
    "    random.shuffle(combined)\n",
    "    for question, answer in combined:\n",
    "        user_answer = input(\"Fill in the blank: {}\\nYour answer: \".format(question)).strip().capitalize()\n",
    "        if user_answer == answer:\n",
    "            print(\"Correct!\")\n",
    "            score += 1\n",
    "        else:\n",
    "            print(\"Incorrect! The correct answer is: {}\".format(answer))\n",
    "    print(\"Quiz completed! You scored {}/{}.\".format(score, len(questions)))\n",
    "\n",
    "# Main function\n",
    "if __name__ == \"__main__\":\n",
    "    play_quiz()\n"
   ]
  },
  {
   "cell_type": "code",
   "execution_count": null,
   "id": "4d5f822a",
   "metadata": {},
   "outputs": [],
   "source": []
  }
 ],
 "metadata": {
  "kernelspec": {
   "display_name": "Python 3 (ipykernel)",
   "language": "python",
   "name": "python3"
  },
  "language_info": {
   "codemirror_mode": {
    "name": "ipython",
    "version": 3
   },
   "file_extension": ".py",
   "mimetype": "text/x-python",
   "name": "python",
   "nbconvert_exporter": "python",
   "pygments_lexer": "ipython3",
   "version": "3.11.5"
  }
 },
 "nbformat": 4,
 "nbformat_minor": 5
}
