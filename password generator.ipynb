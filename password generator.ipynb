{
 "cells": [
  {
   "cell_type": "markdown",
   "id": "35177212",
   "metadata": {},
   "source": [
    "# password generator"
   ]
  },
  {
   "cell_type": "code",
   "execution_count": 5,
   "id": "a8c05702",
   "metadata": {},
   "outputs": [
    {
     "name": "stdout",
     "output_type": "stream",
     "text": [
      "enter the length of password:5\n",
      ":$]69\n"
     ]
    }
   ],
   "source": [
    "import random\n",
    "characters = \"abcdefghijklmnopqrstuvwxyzABCDEFGHIJKLMNOPQRSTUVWXYZ1234567890!@#$%^&*()_+-=[]{}|;:,.<>/?\"\n",
    "n= int(input(\"enter the length of password:\"))\n",
    "password=\"\"\n",
    "for i in range(n):\n",
    "    s=random.choice(characters)\n",
    "    password+=s\n",
    "print(password)    "
   ]
  }
 ],
 "metadata": {
  "kernelspec": {
   "display_name": "Python 3 (ipykernel)",
   "language": "python",
   "name": "python3"
  },
  "language_info": {
   "codemirror_mode": {
    "name": "ipython",
    "version": 3
   },
   "file_extension": ".py",
   "mimetype": "text/x-python",
   "name": "python",
   "nbconvert_exporter": "python",
   "pygments_lexer": "ipython3",
   "version": "3.11.5"
  }
 },
 "nbformat": 4,
 "nbformat_minor": 5
}
