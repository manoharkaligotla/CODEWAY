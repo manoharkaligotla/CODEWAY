{
 "cells": [
  {
   "cell_type": "markdown",
   "id": "920d0333",
   "metadata": {},
   "source": [
    "# Simple Calculator"
   ]
  },
  {
   "cell_type": "code",
   "execution_count": 4,
   "id": "336ed6dd",
   "metadata": {
    "scrolled": true
   },
   "outputs": [
    {
     "name": "stdout",
     "output_type": "stream",
     "text": [
      "enter number 1:1\n",
      "enter number 2:2\n",
      "Enter the Operator:-\n",
      "-1.0\n"
     ]
    }
   ],
   "source": [
    "num1 =float(input(\"enter number 1:\"))\n",
    "num2 =float(input(\"enter number 2:\"))\n",
    "op = input('Enter the Operator:')\n",
    "if op == '+':\n",
    "    print(num1+num2)    \n",
    "elif op =='-':\n",
    "\n",
    "    print(num1-num2)\n",
    "elif op =='*':\n",
    "\n",
    "    print(num1*num2)\n",
    "elif op =='/':\n",
    "\n",
    "    print(num1/num2)\n",
    "else: \n",
    "     print(\"invalid input\")"
   ]
  }
 ],
 "metadata": {
  "kernelspec": {
   "display_name": "Python 3 (ipykernel)",
   "language": "python",
   "name": "python3"
  },
  "language_info": {
   "codemirror_mode": {
    "name": "ipython",
    "version": 3
   },
   "file_extension": ".py",
   "mimetype": "text/x-python",
   "name": "python",
   "nbconvert_exporter": "python",
   "pygments_lexer": "ipython3",
   "version": "3.11.5"
  }
 },
 "nbformat": 4,
 "nbformat_minor": 5
}
